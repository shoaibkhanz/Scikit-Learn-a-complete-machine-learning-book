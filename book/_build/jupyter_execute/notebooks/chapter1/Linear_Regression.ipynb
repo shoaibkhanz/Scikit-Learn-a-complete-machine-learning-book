{
 "cells": [
  {
   "cell_type": "markdown",
   "metadata": {},
   "source": [
    " # Linear Regression"
   ]
  },
  {
   "cell_type": "code",
   "execution_count": 1,
   "metadata": {},
   "outputs": [],
   "source": [
    "import matplotlib.pyplot as plt\n",
    "import pandas as pd\n",
    "import plotly.express as px\n",
    "from sklearn.datasets import load_boston\n",
    "from sklearn.linear_model import LinearRegression\n",
    "from sklearn.model_selection import train_test_split"
   ]
  },
  {
   "cell_type": "code",
   "execution_count": 2,
   "metadata": {},
   "outputs": [],
   "source": [
    "# load the data from scikit-learn (a bunch is returned)\n",
    "boston = load_boston()\n",
    "# required components\n",
    "data = boston[\"data\"]\n",
    "target = boston[\"target\"]\n",
    "cols = boston[\"feature_names\"]"
   ]
  },
  {
   "cell_type": "code",
   "execution_count": 3,
   "metadata": {},
   "outputs": [],
   "source": [
    "def get_var(df, var_name):\n",
    "    globals()[var_name] = df\n",
    "\n",
    "\n",
    "# fmt:on\n",
    "(\n",
    "    pd.DataFrame(data, columns=cols)\n",
    "    .assign(target=target)\n",
    "    .dropna(axis=1)\n",
    "    .rename(str.lower, axis=1)\n",
    "    .pipe(get_var, \"df1\")\n",
    ")\n",
    "\n",
    "Y = df1[\"target\"]\n",
    "X = df1.drop(columns=\"target\", axis=1)"
   ]
  },
  {
   "cell_type": "code",
   "execution_count": 4,
   "metadata": {},
   "outputs": [
    {
     "name": "stdout",
     "output_type": "stream",
     "text": [
      "(506, 13)\n",
      "(506,)\n"
     ]
    }
   ],
   "source": [
    "print(X.shape)\n",
    "print(Y.shape)"
   ]
  },
  {
   "cell_type": "code",
   "execution_count": 5,
   "metadata": {},
   "outputs": [],
   "source": [
    "(X_train, Y_train, X_test, Y_test,) = train_test_split(\n",
    "    X, Y, test_size=0.3, random_state=42, shuffle=False,\n",
    ")"
   ]
  },
  {
   "cell_type": "code",
   "execution_count": 6,
   "metadata": {},
   "outputs": [
    {
     "name": "stdout",
     "output_type": "stream",
     "text": [
      "(354, 13)\n",
      "(152,)\n"
     ]
    }
   ],
   "source": [
    "print(X_train.shape)\n",
    "print(Y_test.shape)"
   ]
  }
 ],
 "metadata": {
  "language_info": {
   "codemirror_mode": {
    "name": "ipython",
    "version": 3
   },
   "file_extension": ".py",
   "mimetype": "text/x-python",
   "name": "python",
   "nbconvert_exporter": "python",
   "pygments_lexer": "ipython3",
   "version": "3.9.7"
  }
 },
 "nbformat": 4,
 "nbformat_minor": 2
}