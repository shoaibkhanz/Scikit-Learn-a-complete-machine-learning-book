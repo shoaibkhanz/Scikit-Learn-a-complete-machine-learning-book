{
 "cells": [
  {
   "cell_type": "code",
   "execution_count": 1,
   "metadata": {},
   "outputs": [],
   "source": [
    "import matplotlib.pyplot as plt\n",
    "import pandas as pd\n",
    "import plotly.express as px\n",
    "from sklearn.datasets import load_boston\n",
    "from sklearn.linear_model import LinearRegression\n",
    "from sklearn.model_selection import train_test_split"
   ]
  },
  {
   "cell_type": "code",
   "execution_count": 2,
   "metadata": {},
   "outputs": [],
   "source": [
    "# load the data from scikit-learn (a bunch is returned)\n",
    "boston = load_boston()\n",
    "# required components\n",
    "data = boston[\"data\"]\n",
    "target = boston[\"target\"]\n",
    "cols = boston[\"feature_names\"]"
   ]
  },
  {
   "cell_type": "code",
   "execution_count": 3,
   "metadata": {},
   "outputs": [
    {
     "name": "stdout",
     "output_type": "stream",
     "text": [
      "(506, 13)\n",
      "(506,)\n"
     ]
    }
   ],
   "source": [
    "def get_var(df, var_name):\n",
    "    globals()[var_name] = df\n",
    "\n",
    "\n",
    "# fmt:off\n",
    "(\n",
    "pd.DataFrame(data, columns=cols)\n",
    " .assign(target=target)\n",
    " .dropna(axis=1)\n",
    " .rename(str.lower, axis=1)\n",
    " .pipe(get_var, \"df1\")\n",
    " )\n",
    "\n",
    "Y = df1['target']\n",
    "X = df1.drop(columns='target',axis=1)\n"
   ]
  },
  {
   "cell_type": "code",
   "execution_count": 4,
   "metadata": {},
   "outputs": [
    {
     "name": "stdout",
     "output_type": "stream",
     "text": [
      "(506, 13)\n"
     ]
    }
   ],
   "source": [
    "\n",
    "print(X.shape)\n",
    "print(Y.shape)\n"
   ]
  },
  {
   "cell_type": "code",
   "execution_count": 4,
   "metadata": {},
   "outputs": [],
   "source": [
    "X_train, Y_train,X_test,Y_test = train_test_split(X, Y,test_size=0.3,random_state=42)"
   ]
  }
 ],
 "metadata": {
  "interpreter": {
   "hash": "f15208e8887e892addbfd596217dcbf0c8d30c3d5d79bbb64d2c8e60bb9b6e1c"
  },
  "kernelspec": {
   "display_name": "Python 3.9.7 64-bit ('sk_course': conda)",
   "name": "python3"
  },
  "language_info": {
   "codemirror_mode": {
    "name": "ipython",
    "version": 3
   },
   "file_extension": ".py",
   "mimetype": "text/x-python",
   "name": "python",
   "nbconvert_exporter": "python",
   "pygments_lexer": "ipython3",
   "version": "3.9.7"
  }
 },
 "nbformat": 4,
 "nbformat_minor": 2
}