{
 "cells": [
  {
   "cell_type": "markdown",
   "source": [
    " # Linear Regression"
   ],
   "metadata": {}
  },
  {
   "cell_type": "code",
   "execution_count": 1,
   "source": [
    "import matplotlib.pyplot as plt\n",
    "import pandas as pd\n",
    "import plotly.express as px\n",
    "from sklearn.datasets import load_boston\n",
    "from sklearn.linear_model import LinearRegression\n",
    "from sklearn.model_selection import train_test_split"
   ],
   "outputs": [],
   "metadata": {}
  },
  {
   "cell_type": "code",
   "execution_count": 2,
   "source": [
    "# load the data from scikit-learn (a bunch is returned)\n",
    "boston = load_boston()\n",
    "# required components\n",
    "data = boston[\"data\"]\n",
    "target = boston[\"target\"]\n",
    "cols = boston[\"feature_names\"]"
   ],
   "outputs": [],
   "metadata": {}
  },
  {
   "cell_type": "code",
   "execution_count": 3,
   "source": [
    "def get_var(df, var_name):\n",
    "    globals()[var_name] = df\n",
    "\n",
    "\n",
    "# fmt:on\n",
    "(\n",
    "    pd.DataFrame(data, columns=cols)\n",
    "    .assign(target=target)\n",
    "    .dropna(axis=1)\n",
    "    .rename(str.lower, axis=1)\n",
    "    .pipe(get_var, \"df1\")\n",
    ")\n",
    "\n",
    "Y = df1[\"target\"]\n",
    "X = df1.drop(columns=\"target\", axis=1)"
   ],
   "outputs": [],
   "metadata": {}
  },
  {
   "cell_type": "code",
   "execution_count": 4,
   "source": [
    "print(X.shape)\n",
    "print(Y.shape)"
   ],
   "outputs": [
    {
     "output_type": "stream",
     "name": "stdout",
     "text": [
      "(506, 13)\n",
      "(506,)\n"
     ]
    }
   ],
   "metadata": {}
  },
  {
   "cell_type": "code",
   "execution_count": 5,
   "source": [
    "(X_train, Y_train, X_test, Y_test,) = train_test_split(\n",
    "    X, Y, test_size=0.3, random_state=42, shuffle=False,\n",
    ")"
   ],
   "outputs": [],
   "metadata": {}
  },
  {
   "cell_type": "code",
   "execution_count": 6,
   "source": [
    "print(X_train.shape)\n",
    "print(Y_test.shape)"
   ],
   "outputs": [
    {
     "output_type": "stream",
     "name": "stdout",
     "text": [
      "(354, 13)\n",
      "(152,)\n"
     ]
    }
   ],
   "metadata": {}
  },
  {
   "cell_type": "code",
   "execution_count": null,
   "source": [],
   "outputs": [],
   "metadata": {}
  }
 ],
 "metadata": {
  "kernelspec": {
   "display_name": "Python 3 (ipykernel)",
   "language": "python",
   "name": "python3"
  },
  "language_info": {
   "codemirror_mode": {
    "name": "ipython",
    "version": 3
   },
   "file_extension": ".py",
   "mimetype": "text/x-python",
   "name": "python",
   "nbconvert_exporter": "python",
   "pygments_lexer": "ipython3",
   "version": "3.9.7"
  }
 },
 "nbformat": 4,
 "nbformat_minor": 2
}